{
 "cells": [
  {
   "cell_type": "code",
   "execution_count": 1,
   "id": "fa562cd3",
   "metadata": {},
   "outputs": [],
   "source": [
    "import pandas as pd\n",
    "import numpy as np\n",
    "import cv2 as cv\n",
    "from matplotlib import pyplot as plt\n",
    "import time\n",
    "from IPython.display import clear_output\n",
    "from sklearn.preprocessing import MinMaxScaler\n",
    "from sklearn.preprocessing import StandardScaler\n",
    "from sklearn.decomposition import PCA\n",
    "from matplotlib.pylab import rcParams\n",
    "from sklearn.model_selection import GridSearchCV\n",
    "from sklearn.decomposition import PCA\n",
    "from sklearn.discriminant_analysis import LinearDiscriminantAnalysis as LDA\n",
    "rcParams['figure.figsize'] = 80,50\n",
    "from sklearn.linear_model import LogisticRegression\n"
   ]
  },
  {
   "cell_type": "code",
   "execution_count": 2,
   "id": "90ca8960",
   "metadata": {},
   "outputs": [],
   "source": [
    "#Preprocess training set\n",
    "data=pd.read_csv('C:/Users/X99S5/Documents/AMLS_22-23_SN18046828/Datasets/celeba/labels.csv')\n",
    "\n",
    "labelsTrain = data[\"\\timg_name\\tgender\\tsmiling\"].str.split(pat=\"\\t\", n=-1, expand=True)\n",
    "labelsTrain.drop(columns =[0,3], inplace = True)\n",
    "labelsTrain.columns = [\"img_name\"  , \"gender\"]\n",
    "labelsTrain = labelsTrain.astype({'gender': 'int32'})\n",
    "labelsTrain = labelsTrain.astype({'img_name': 'string'})\n",
    "\n",
    "#Preprocess testing set\n",
    "data=pd.read_csv('C:/Users/X99S5/Documents/AMLS_22-23_SN18046828/Datasets/celeba_test/labels.csv')\n",
    "\n",
    "labelsTest = data[\"\\timg_name\\tgender\\tsmiling\"].str.split(pat=\"\\t\", n=-1, expand=True)\n",
    "labelsTest.drop(columns =[0,3], inplace = True)\n",
    "labelsTest.columns = [\"img_name\"  , \"gender\"]\n",
    "labelsTest = labelsTest.astype({'gender': 'int32'})\n",
    "labelsTest = labelsTest.astype({'img_name': 'string'})"
   ]
  },
  {
   "cell_type": "code",
   "execution_count": null,
   "id": "8ddbce48",
   "metadata": {},
   "outputs": [],
   "source": []
  },
  {
   "cell_type": "code",
   "execution_count": 5,
   "id": "bc563a54",
   "metadata": {},
   "outputs": [],
   "source": [
    "#Load training set################################\n",
    "imagesTrain = np.zeros((5000, 218, 178))\n",
    "\n",
    "for i in range(0,5000):\n",
    "    image = cv.imread('C:/Users/X99S5/Documents/AMLS_22-23_SN18046828/Datasets/celeba/img/' + labelsTrain[\"img_name\"][i])\n",
    "    image = cv.cvtColor(image, cv.COLOR_BGR2GRAY)\n",
    "    imagesTrain[i] = image\n",
    "    \n",
    "imagesTrain = imagesTrain.reshape(5000,38804)    \n",
    "imagesTrain = pd.DataFrame(imagesTrain) \n",
    "\n",
    "\n",
    "#Load Testing set################################\n",
    "imagesTest = np.zeros((1000, 218, 178))\n",
    "\n",
    "for i in range(0,1000):\n",
    "    image = cv.imread('C:/Users/X99S5/Documents/AMLS_22-23_SN18046828/Datasets/celeba_test/img/' + labelsTest[\"img_name\"][i])\n",
    "    image = cv.cvtColor(image, cv.COLOR_BGR2GRAY)\n",
    "    imagesTest[i] = image\n",
    "    \n",
    "imagesTest = imagesTest.reshape(1000,38804)   \n",
    "\n",
    "imagesTest = pd.DataFrame(imagesTest) "
   ]
  },
  {
   "cell_type": "code",
   "execution_count": null,
   "id": "bc6fdab6",
   "metadata": {},
   "outputs": [],
   "source": []
  },
  {
   "cell_type": "code",
   "execution_count": 6,
   "id": "938636bc",
   "metadata": {},
   "outputs": [],
   "source": [
    "#scale coversion\n",
    "scaler = MinMaxScaler()\n",
    "\n",
    "imagesTrain_scaled = scaler.fit_transform(imagesTrain)\n",
    "imagesTest_scaled = scaler.transform(imagesTest)"
   ]
  },
  {
   "cell_type": "code",
   "execution_count": null,
   "id": "fb02ec29",
   "metadata": {},
   "outputs": [],
   "source": []
  },
  {
   "cell_type": "code",
   "execution_count": 7,
   "id": "7563f526",
   "metadata": {},
   "outputs": [],
   "source": [
    "#PCA conversion\n",
    "pca = PCA(n_components = 200)\n",
    "\n",
    "imagesTrain_pca = pca.fit_transform(imagesTrain_scaled)\n",
    "imagesTest_pca = pca.transform(imagesTest_scaled)\n",
    "\n",
    "imagesTrain_pca = pd.DataFrame(imagesTrain_pca) \n",
    "imagesTest_pca = pd.DataFrame(imagesTest_pca) "
   ]
  },
  {
   "cell_type": "code",
   "execution_count": 8,
   "id": "196ff33e",
   "metadata": {},
   "outputs": [
    {
     "data": {
      "text/plain": [
       "0.9251136695255526"
      ]
     },
     "execution_count": 8,
     "metadata": {},
     "output_type": "execute_result"
    }
   ],
   "source": [
    "pca.explained_variance_ratio_.sum()"
   ]
  },
  {
   "cell_type": "code",
   "execution_count": null,
   "id": "4f2d37e9",
   "metadata": {},
   "outputs": [],
   "source": []
  },
  {
   "cell_type": "code",
   "execution_count": 9,
   "id": "2e3a2c19",
   "metadata": {},
   "outputs": [
    {
     "data": {
      "text/plain": [
       "0.879"
      ]
     },
     "execution_count": 9,
     "metadata": {},
     "output_type": "execute_result"
    }
   ],
   "source": [
    "model = LogisticRegression(solver='lbfgs', max_iter=200)\n",
    "model.fit(imagesTrain_pca, labelsTrain['gender'])\n",
    "model.score(imagesTest_pca,labelsTest['gender'])"
   ]
  },
  {
   "cell_type": "code",
   "execution_count": null,
   "id": "cafb722f",
   "metadata": {},
   "outputs": [],
   "source": []
  }
 ],
 "metadata": {
  "kernelspec": {
   "display_name": "Python 3 (ipykernel)",
   "language": "python",
   "name": "python3"
  },
  "language_info": {
   "codemirror_mode": {
    "name": "ipython",
    "version": 3
   },
   "file_extension": ".py",
   "mimetype": "text/x-python",
   "name": "python",
   "nbconvert_exporter": "python",
   "pygments_lexer": "ipython3",
   "version": "3.10.8"
  }
 },
 "nbformat": 4,
 "nbformat_minor": 5
}
