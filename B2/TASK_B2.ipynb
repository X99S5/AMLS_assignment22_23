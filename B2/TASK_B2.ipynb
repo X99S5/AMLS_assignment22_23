{
 "cells": [
  {
   "cell_type": "code",
   "execution_count": 1,
   "id": "ef52b162",
   "metadata": {},
   "outputs": [],
   "source": [
    "import pandas as pd\n",
    "import numpy as np\n",
    "import cv2 as cv\n",
    "from matplotlib import pyplot as plt\n",
    "import time\n",
    "from IPython.display import clear_output\n",
    "from sklearn.preprocessing import MinMaxScaler\n",
    "from sklearn.preprocessing import StandardScaler\n",
    "from sklearn.decomposition import PCA"
   ]
  },
  {
   "cell_type": "code",
   "execution_count": 3,
   "id": "8ae1c206",
   "metadata": {},
   "outputs": [],
   "source": [
    "#Preprocess training set\n",
    "data=pd.read_csv('C:/Users/X99S5/Documents/AMLS_22-23_SN18046828/Datasets/cartoon_set/labels.csv')\n",
    "\n",
    "labelsTrain = data[\"\\teye_color\\tface_shape\\tfile_name\"].str.split(pat=\"\\t\", n=-1, expand=True)\n",
    "labelsTrain.drop(columns =[0,2], inplace = True)\n",
    "labelsTrain.columns = [ \"eye_color\" , \"img_name\"]\n",
    "labelsTrain = labelsTrain.astype({'eye_color': 'int32'})\n",
    "labelsTrain = labelsTrain.astype({'img_name': 'string'})\n",
    "\n",
    "#Preprocess testing set\n",
    "data=pd.read_csv('C:/Users/X99S5/Documents/AMLS_22-23_SN18046828/Datasets/cartoon_set_test/labels.csv')\n",
    "\n",
    "labelsTest = data[\"\\teye_color\\tface_shape\\tfile_name\"].str.split(pat=\"\\t\", n=-1, expand=True)\n",
    "labelsTest.drop(columns =[0,2], inplace = True)\n",
    "labelsTest.columns = [ \"eye_color\" , \"img_name\"]\n",
    "labelsTest = labelsTest.astype({'eye_color': 'int32'})\n",
    "labelsTest = labelsTest.astype({'img_name': 'string'})"
   ]
  },
  {
   "cell_type": "code",
   "execution_count": null,
   "id": "9ca59539",
   "metadata": {},
   "outputs": [],
   "source": []
  },
  {
   "cell_type": "code",
   "execution_count": null,
   "id": "7e8876bd",
   "metadata": {},
   "outputs": [],
   "source": []
  },
  {
   "cell_type": "code",
   "execution_count": null,
   "id": "1f2695d6",
   "metadata": {},
   "outputs": [],
   "source": []
  },
  {
   "cell_type": "code",
   "execution_count": 4,
   "id": "52e10136",
   "metadata": {},
   "outputs": [],
   "source": [
    "#Load training set################################\n",
    "imagesTrain = np.zeros((10000, 173, 155)) \n",
    "\n",
    "for i in range(0,10000):\n",
    "    image = cv.imread('C:/Users/X99S5/Documents/AMLS_22-23_SN18046828/Datasets/cartoon_set/img/' + labelsTrain[\"img_name\"][i])\n",
    "    image = image[75:420,95:405] # cut 95 from left / right sides , 75 from top, 80 from the bottom\n",
    "    image = cv.resize(image, dsize=(155 , 173), interpolation=cv.INTER_CUBIC)\n",
    "    imagesTrain[i] = cv.cvtColor(image, cv.COLOR_BGR2GRAY)\n",
    "    \n",
    "imagesTrain = imagesTrain.reshape(10000,26815)    \n",
    "imagesTrain = pd.DataFrame(imagesTrain) \n",
    "\n",
    "\n",
    "#Load Testing set################################\n",
    "imagesTest = np.zeros((2500, 173, 155))\n",
    "\n",
    "for i in range(0,2500):\n",
    "    image = cv.imread('C:/Users/X99S5/Documents/AMLS_22-23_SN18046828/Datasets/cartoon_set_test/img/' + labelsTest[\"img_name\"][i])\n",
    "    image = image[75:420,95:405]\n",
    "    image = cv.resize(image, dsize=(155 , 173), interpolation=cv.INTER_CUBIC)\n",
    "    imagesTest[i] = cv.cvtColor(image, cv.COLOR_BGR2GRAY)\n",
    "    \n",
    "    \n",
    "imagesTest = imagesTest.reshape(2500,26815)   \n",
    "imagesTest = pd.DataFrame(imagesTest) "
   ]
  },
  {
   "cell_type": "code",
   "execution_count": null,
   "id": "7e5852a8",
   "metadata": {},
   "outputs": [],
   "source": []
  },
  {
   "cell_type": "code",
   "execution_count": null,
   "id": "e92ab002",
   "metadata": {},
   "outputs": [],
   "source": []
  }
 ],
 "metadata": {
  "kernelspec": {
   "display_name": "Python 3 (ipykernel)",
   "language": "python",
   "name": "python3"
  },
  "language_info": {
   "codemirror_mode": {
    "name": "ipython",
    "version": 3
   },
   "file_extension": ".py",
   "mimetype": "text/x-python",
   "name": "python",
   "nbconvert_exporter": "python",
   "pygments_lexer": "ipython3",
   "version": "3.10.8"
  }
 },
 "nbformat": 4,
 "nbformat_minor": 5
}
