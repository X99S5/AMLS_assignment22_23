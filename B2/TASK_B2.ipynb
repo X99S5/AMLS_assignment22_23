{
 "cells": [
  {
   "cell_type": "code",
   "execution_count": 1,
   "id": "aa9c5de1",
   "metadata": {},
   "outputs": [],
   "source": [
    "import pandas as pd\n",
    "import numpy as np\n",
    "import cv2 as cv\n",
    "from matplotlib import pyplot as plt\n",
    "import time\n",
    "from IPython.display import clear_output\n",
    "from sklearn.preprocessing import MinMaxScaler\n",
    "from sklearn.preprocessing import StandardScaler\n",
    "from sklearn.decomposition import PCA\n",
    "from sklearn.model_selection import GridSearchCV\n",
    "from sklearn.neighbors import KNeighborsClassifier\n",
    "from sklearn import tree"
   ]
  },
  {
   "cell_type": "code",
   "execution_count": 2,
   "id": "aa55715c",
   "metadata": {},
   "outputs": [],
   "source": [
    "#Preprocess training set\n",
    "data=pd.read_csv('C:/Users/X99S5/Documents/AMLS_22-23_SN18046828/Datasets/cartoon_set/labels.csv')\n",
    "\n",
    "labelsTrain = data[\"\\teye_color\\tface_shape\\tfile_name\"].str.split(pat=\"\\t\", n=-1, expand=True)\n",
    "labelsTrain.drop(columns =[0,2], inplace = True)\n",
    "labelsTrain.columns = [ \"eye_color\" , \"img_name\"]\n",
    "labelsTrain = labelsTrain.astype({'eye_color': 'int32'})\n",
    "labelsTrain = labelsTrain.astype({'img_name': 'string'})\n",
    "\n",
    "#Preprocess testing set\n",
    "data=pd.read_csv('C:/Users/X99S5/Documents/AMLS_22-23_SN18046828/Datasets/cartoon_set_test/labels.csv')\n",
    "\n",
    "labelsTest = data[\"\\teye_color\\tface_shape\\tfile_name\"].str.split(pat=\"\\t\", n=-1, expand=True)\n",
    "labelsTest.drop(columns =[0,2], inplace = True)\n",
    "labelsTest.columns = [ \"eye_color\" , \"img_name\"]\n",
    "labelsTest = labelsTest.astype({'eye_color': 'int32'})\n",
    "labelsTest = labelsTest.astype({'img_name': 'string'})"
   ]
  },
  {
   "cell_type": "code",
   "execution_count": null,
   "id": "deab8a8f",
   "metadata": {},
   "outputs": [],
   "source": []
  },
  {
   "cell_type": "code",
   "execution_count": null,
   "id": "5dd9218e",
   "metadata": {},
   "outputs": [],
   "source": []
  },
  {
   "cell_type": "code",
   "execution_count": null,
   "id": "778d082e",
   "metadata": {},
   "outputs": [],
   "source": [
    "#230:270,180:320"
   ]
  },
  {
   "cell_type": "code",
   "execution_count": 28,
   "id": "4c7b1b8e",
   "metadata": {},
   "outputs": [],
   "source": [
    "#Load training set################################\n",
    "imagesTrain = np.zeros((10000, 50 , 50, 3)) \n",
    "\n",
    "for i in range(0,10000):\n",
    "    image = cv.imread('C:/Users/X99S5/Documents/AMLS_22-23_SN18046828/Datasets/cartoon_set/img/' + labelsTrain[\"img_name\"][i])\n",
    "    image = image[230:270,180:320] # cut 95 from left / right sides , 75 from top, 80 from the bottom\n",
    "    image = cv.resize(image, dsize=(50 , 50), interpolation=cv.INTER_CUBIC)\n",
    "    imagesTrain[i] = image\n",
    "    \n",
    "imagesTrain = imagesTrain.reshape(10000,7500)    \n",
    "imagesTrain = pd.DataFrame(imagesTrain) \n",
    "\n",
    "\n",
    "#Load Testing set################################\n",
    "imagesTest = np.zeros((2500, 50 , 50, 3))\n",
    "\n",
    "for i in range(0,2500):\n",
    "    image = cv.imread('C:/Users/X99S5/Documents/AMLS_22-23_SN18046828/Datasets/cartoon_set_test/img/' + labelsTest[\"img_name\"][i])\n",
    "    image = image[230:270,180:320]\n",
    "    image = cv.resize(image, dsize=(50 , 50), interpolation=cv.INTER_CUBIC)\n",
    "    imagesTest[i] = image\n",
    "    \n",
    "    \n",
    "imagesTest = imagesTest.reshape(2500,7500)   \n",
    "imagesTest = pd.DataFrame(imagesTest) "
   ]
  },
  {
   "cell_type": "code",
   "execution_count": 58,
   "id": "e5ab81d2",
   "metadata": {},
   "outputs": [],
   "source": [
    "x_train=np.zeros((10000,7502))\n",
    "for i in range(0,10000):\n",
    "    x_train[i]=np.convolve(imagesTrain.iloc[i,:],[0.333,-0.333,0.333])\n",
    "    \n",
    "x_test=np.zeros((2500,7502))\n",
    "for i in range(0,2500):\n",
    "    x_test[i]=np.convolve(imagesTest.iloc[i,:],[0.333,-0.333,0.333])"
   ]
  },
  {
   "cell_type": "code",
   "execution_count": null,
   "id": "adb188e2",
   "metadata": {},
   "outputs": [],
   "source": []
  },
  {
   "cell_type": "code",
   "execution_count": null,
   "id": "d9afc057",
   "metadata": {},
   "outputs": [],
   "source": []
  },
  {
   "cell_type": "code",
   "execution_count": 86,
   "id": "de6ac26b",
   "metadata": {},
   "outputs": [
    {
     "data": {
      "text/plain": [
       "0.8308"
      ]
     },
     "execution_count": 86,
     "metadata": {},
     "output_type": "execute_result"
    }
   ],
   "source": [
    "#accuracy = []\n",
    "#r=range(1000,1500,100) #peaks at 950/1000\n",
    "#for i in r: \n",
    "#might be failing due to bgr values\n",
    "model = KNeighborsClassifier(n_neighbors=280, weights = 'distance' , n_jobs=-1)\n",
    "model.fit(x_train,labelsTrain['eye_color'])\n",
    "model.score(x_test,labelsTest['eye_color'])\n",
    "#accuracy.append(model.score(imagesTest,labelsTest['eye_color']))\n",
    "#plt.plot(r,accuracy)\n",
    "\n",
    "# try and seperate colours into more clear identifiers"
   ]
  },
  {
   "cell_type": "code",
   "execution_count": 9,
   "id": "ce5e96f1",
   "metadata": {},
   "outputs": [
    {
     "data": {
      "text/plain": [
       "0.832"
      ]
     },
     "execution_count": 9,
     "metadata": {},
     "output_type": "execute_result"
    }
   ],
   "source": [
    "model = tree.DecisionTreeClassifier(max_depth=4,criterion = 'gini')\n",
    "model.fit(imagesTrain,labelsTrain['eye_color'])\n",
    "model.score(imagesTest,labelsTest['eye_color'])"
   ]
  },
  {
   "cell_type": "code",
   "execution_count": null,
   "id": "ce4f93cb",
   "metadata": {},
   "outputs": [],
   "source": []
  },
  {
   "cell_type": "code",
   "execution_count": null,
   "id": "0b2657c6",
   "metadata": {},
   "outputs": [],
   "source": []
  }
 ],
 "metadata": {
  "kernelspec": {
   "display_name": "Python 3 (ipykernel)",
   "language": "python",
   "name": "python3"
  },
  "language_info": {
   "codemirror_mode": {
    "name": "ipython",
    "version": 3
   },
   "file_extension": ".py",
   "mimetype": "text/x-python",
   "name": "python",
   "nbconvert_exporter": "python",
   "pygments_lexer": "ipython3",
   "version": "3.10.8"
  }
 },
 "nbformat": 4,
 "nbformat_minor": 5
}
