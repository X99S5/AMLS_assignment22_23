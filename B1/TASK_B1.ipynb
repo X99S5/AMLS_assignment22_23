{
 "cells": [
  {
   "cell_type": "code",
   "execution_count": 1,
   "id": "d714fdf2",
   "metadata": {},
   "outputs": [],
   "source": [
    "import pandas as pd\n",
    "import numpy as np\n",
    "import cv2 as cv\n",
    "from matplotlib import pyplot as plt\n",
    "import time\n",
    "from IPython.display import clear_output\n",
    "from sklearn.preprocessing import MinMaxScaler\n",
    "from sklearn.preprocessing import StandardScaler\n",
    "from sklearn.decomposition import PCA\n",
    "from sklearn.model_selection import GridSearchCV\n",
    "from sklearn.neighbors import KNeighborsClassifier"
   ]
  },
  {
   "cell_type": "code",
   "execution_count": 21,
   "id": "04f7a00c",
   "metadata": {},
   "outputs": [],
   "source": [
    "#Preprocess training set\n",
    "data=pd.read_csv('C:/Users/X99S5/Documents/AMLS_22-23_SN18046828/Datasets/cartoon_set/labels.csv')\n",
    "\n",
    "labelsTrain = data[\"\\teye_color\\tface_shape\\tfile_name\"].str.split(pat=\"\\t\", n=-1, expand=True)\n",
    "labelsTrain.drop(columns =[0,1], inplace = True)\n",
    "labelsTrain.columns = [ \"face_shape\" , \"img_name\"]\n",
    "labelsTrain = labelsTrain.astype({'face_shape': 'int32'})\n",
    "labelsTrain = labelsTrain.astype({'img_name': 'string'})\n",
    "\n",
    "#Preprocess testing set\n",
    "data=pd.read_csv('C:/Users/X99S5/Documents/AMLS_22-23_SN18046828/Datasets/cartoon_set_test/labels.csv')\n",
    "\n",
    "labelsTest = data[\"\\teye_color\\tface_shape\\tfile_name\"].str.split(pat=\"\\t\", n=-1, expand=True)\n",
    "labelsTest.drop(columns =[0,1], inplace = True)\n",
    "labelsTest.columns = [ \"face_shape\" , \"img_name\"]\n",
    "labelsTest = labelsTest.astype({'face_shape': 'int32'})\n",
    "labelsTest = labelsTest.astype({'img_name': 'string'})"
   ]
  },
  {
   "cell_type": "code",
   "execution_count": null,
   "id": "0010f420",
   "metadata": {},
   "outputs": [],
   "source": []
  },
  {
   "cell_type": "code",
   "execution_count": 3,
   "id": "3370096c",
   "metadata": {},
   "outputs": [],
   "source": [
    "#Load training set################################\n",
    "imagesTrain = np.zeros((10000, 150 , 150, 3)) \n",
    "\n",
    "for i in range(0,10000):\n",
    "    image = cv.imread('C:/Users/X99S5/Documents/AMLS_22-23_SN18046828/Datasets/cartoon_set/img/' + labelsTrain[\"img_name\"][i])\n",
    "    image = image[75:420,95:405] # cut 95 from left / right sides , 75 from top, 80 from the bottom\n",
    "    image = cv.resize(image, dsize=(150 , 150), interpolation=cv.INTER_CUBIC)\n",
    "    # imagesTrain[i] = cv.cvtColor(image, cv.COLOR_BGR2GRAY)\n",
    "    imagesTrain[i] = image\n",
    "#imagesTrain = imagesTrain.reshape(10000,26815)    \n",
    "#imagesTrain = pd.DataFrame(imagesTrain) \n",
    "\n",
    "\n",
    "#Load Testing set################################\n",
    "imagesTest = np.zeros((2500, 150 , 150, 3))\n",
    "\n",
    "for i in range(0,2500):\n",
    "    image = cv.imread('C:/Users/X99S5/Documents/AMLS_22-23_SN18046828/Datasets/cartoon_set_test/img/' + labelsTest[\"img_name\"][i])\n",
    "    image = image[75:420,95:405]\n",
    "    image = cv.resize(image, dsize=(150 , 150), interpolation=cv.INTER_CUBIC)\n",
    "    #imagesTest[i] = cv.cvtColor(image, cv.COLOR_BGR2GRAY)\n",
    "    imagesTest[i] = image\n",
    "    \n",
    "#imagesTest = imagesTest.reshape(2500,26815)   \n",
    "#imagesTest = pd.DataFrame(imagesTest) "
   ]
  },
  {
   "cell_type": "code",
   "execution_count": null,
   "id": "d329161a",
   "metadata": {},
   "outputs": [],
   "source": []
  },
  {
   "cell_type": "code",
   "execution_count": 27,
   "id": "d3098616",
   "metadata": {},
   "outputs": [],
   "source": [
    "tf.config.run_functions_eagerly(True)\n",
    "#needed for tf to run"
   ]
  },
  {
   "cell_type": "code",
   "execution_count": 4,
   "id": "a41a377e",
   "metadata": {},
   "outputs": [
    {
     "name": "stdout",
     "output_type": "stream",
     "text": [
      "num of gpus available:  1\n"
     ]
    }
   ],
   "source": [
    "import tensorflow as tf\n",
    "from tensorflow import keras\n",
    "from keras import Sequential\n",
    "from keras.layers import Dense,Conv2D,MaxPooling2D,Flatten\n",
    "print(\"num of gpus available: \",len(tf.config.experimental.list_physical_devices('GPU')))\n",
    "from keras.utils import normalize,to_categorical\n",
    "from keras.preprocessing.image import ImageDataGenerator"
   ]
  },
  {
   "cell_type": "code",
   "execution_count": 6,
   "id": "f42f77c4",
   "metadata": {},
   "outputs": [],
   "source": [
    "labelsTrain = labelsTrain['face_shape']\n",
    "labelsTest = labelsTest['face_shape']\n",
    "\n",
    "imagesTrain = normalize(imagesTrain,axis=1)\n",
    "imagesTest = normalize(imagesTest,axis=1)\n",
    "\n",
    "labelsTrain = to_categorical(labelsTrain)\n",
    "labelsTest = to_categorical(labelsTest)"
   ]
  },
  {
   "cell_type": "code",
   "execution_count": 7,
   "id": "b474b0ee",
   "metadata": {},
   "outputs": [],
   "source": [
    "datagen_train = ImageDataGenerator()\n",
    "#needed to save memory\n",
    "\n",
    "datagen_Test = ImageDataGenerator()\n"
   ]
  },
  {
   "cell_type": "code",
   "execution_count": 29,
   "id": "500a3861",
   "metadata": {},
   "outputs": [],
   "source": [
    "model = Sequential()\n",
    "\n",
    "model.add(Conv2D(32,kernel_size=(3,3),padding='valid',activation='relu',input_shape=(150,150,3)))\n",
    "model.add(MaxPooling2D(pool_size=(2,2),strides=2,padding='valid'))\n",
    "\n",
    "model.add(Conv2D(64,kernel_size=(3,3),padding='valid',activation='relu'))\n",
    "model.add(MaxPooling2D(pool_size=(2,2),strides=2,padding='valid'))\n",
    "\n",
    "model.add(Conv2D(128,kernel_size=(3,3),padding='valid',activation='relu'))\n",
    "model.add(MaxPooling2D(pool_size=(2,2),strides=2,padding='valid'))\n",
    "\n",
    "model.add(Flatten())\n",
    "\n",
    "model.add( Dense(128,activation='relu') )\n",
    "model.add( Dense(64,activation='relu') )\n",
    "model.add( Dense(5,activation='softmax') )\n"
   ]
  },
  {
   "cell_type": "code",
   "execution_count": 30,
   "id": "ecd36470",
   "metadata": {},
   "outputs": [
    {
     "name": "stdout",
     "output_type": "stream",
     "text": [
      "Model: \"sequential_3\"\n",
      "_________________________________________________________________\n",
      " Layer (type)                Output Shape              Param #   \n",
      "=================================================================\n",
      " conv2d_9 (Conv2D)           (None, 148, 148, 32)      896       \n",
      "                                                                 \n",
      " max_pooling2d_9 (MaxPooling  (None, 74, 74, 32)       0         \n",
      " 2D)                                                             \n",
      "                                                                 \n",
      " conv2d_10 (Conv2D)          (None, 72, 72, 64)        18496     \n",
      "                                                                 \n",
      " max_pooling2d_10 (MaxPoolin  (None, 36, 36, 64)       0         \n",
      " g2D)                                                            \n",
      "                                                                 \n",
      " conv2d_11 (Conv2D)          (None, 34, 34, 128)       73856     \n",
      "                                                                 \n",
      " max_pooling2d_11 (MaxPoolin  (None, 17, 17, 128)      0         \n",
      " g2D)                                                            \n",
      "                                                                 \n",
      " flatten_3 (Flatten)         (None, 36992)             0         \n",
      "                                                                 \n",
      " dense_9 (Dense)             (None, 128)               4735104   \n",
      "                                                                 \n",
      " dense_10 (Dense)            (None, 64)                8256      \n",
      "                                                                 \n",
      " dense_11 (Dense)            (None, 5)                 325       \n",
      "                                                                 \n",
      "=================================================================\n",
      "Total params: 4,836,933\n",
      "Trainable params: 4,836,933\n",
      "Non-trainable params: 0\n",
      "_________________________________________________________________\n"
     ]
    }
   ],
   "source": [
    "model.summary()"
   ]
  },
  {
   "cell_type": "code",
   "execution_count": 31,
   "id": "f2e1f7d7",
   "metadata": {},
   "outputs": [],
   "source": [
    "model.compile(optimizer='rmsprop',loss='categorical_crossentropy',metrics=['accuracy'])"
   ]
  },
  {
   "cell_type": "code",
   "execution_count": 32,
   "id": "6bb74074",
   "metadata": {},
   "outputs": [
    {
     "name": "stdout",
     "output_type": "stream",
     "text": [
      "Epoch 1/10\n",
      "100/100 [==============================] - 13s 117ms/step - loss: 0.9690 - accuracy: 0.5808 - val_loss: 0.0736 - val_accuracy: 0.9856\n",
      "Epoch 2/10\n",
      "100/100 [==============================] - 12s 117ms/step - loss: 0.0421 - accuracy: 0.9888 - val_loss: 0.0086 - val_accuracy: 0.9980\n",
      "Epoch 3/10\n",
      "100/100 [==============================] - 12s 116ms/step - loss: 0.0101 - accuracy: 0.9971 - val_loss: 0.0354 - val_accuracy: 0.9900\n",
      "Epoch 4/10\n",
      "100/100 [==============================] - 12s 116ms/step - loss: 0.0074 - accuracy: 0.9978 - val_loss: 0.0033 - val_accuracy: 0.9988\n",
      "Epoch 5/10\n",
      "100/100 [==============================] - 12s 116ms/step - loss: 0.0012 - accuracy: 0.9996 - val_loss: 0.0019 - val_accuracy: 0.9996\n",
      "Epoch 6/10\n",
      "100/100 [==============================] - 12s 117ms/step - loss: 0.0023 - accuracy: 0.9992 - val_loss: 0.0029 - val_accuracy: 0.9992\n",
      "Epoch 7/10\n",
      "100/100 [==============================] - 12s 118ms/step - loss: 0.0012 - accuracy: 0.9997 - val_loss: 4.9524e-04 - val_accuracy: 0.9996\n",
      "Epoch 8/10\n",
      "100/100 [==============================] - 12s 118ms/step - loss: 0.0011 - accuracy: 0.9995 - val_loss: 2.8352e-04 - val_accuracy: 1.0000\n",
      "Epoch 9/10\n",
      "100/100 [==============================] - 12s 118ms/step - loss: 9.4472e-04 - accuracy: 0.9999 - val_loss: 3.7673e-04 - val_accuracy: 0.9996\n",
      "Epoch 10/10\n",
      "100/100 [==============================] - 12s 118ms/step - loss: 2.0330e-04 - accuracy: 0.9999 - val_loss: 2.3381e-04 - val_accuracy: 1.0000\n"
     ]
    }
   ],
   "source": [
    "history = model.fit( \n",
    "    datagen_train.flow(imagesTrain, labelsTrain, batch_size=100),\n",
    "    epochs=10,\n",
    "    # We pass some validation for\n",
    "    # monitoring validation loss and metrics\n",
    "    # at the end of each epoch\n",
    "    validation_data=datagen_Test.flow(imagesTest, labelsTest, batch_size=100),\n",
    ")"
   ]
  },
  {
   "cell_type": "code",
   "execution_count": null,
   "id": "34091dd4",
   "metadata": {},
   "outputs": [],
   "source": []
  },
  {
   "cell_type": "code",
   "execution_count": null,
   "id": "64f5705a",
   "metadata": {},
   "outputs": [],
   "source": []
  }
 ],
 "metadata": {
  "kernelspec": {
   "display_name": "Python 3 (ipykernel)",
   "language": "python",
   "name": "python3"
  },
  "language_info": {
   "codemirror_mode": {
    "name": "ipython",
    "version": 3
   },
   "file_extension": ".py",
   "mimetype": "text/x-python",
   "name": "python",
   "nbconvert_exporter": "python",
   "pygments_lexer": "ipython3",
   "version": "3.10.8"
  }
 },
 "nbformat": 4,
 "nbformat_minor": 5
}
