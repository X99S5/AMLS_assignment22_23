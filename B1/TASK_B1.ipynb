{
 "cells": [
  {
   "cell_type": "code",
   "execution_count": 184,
   "id": "d714fdf2",
   "metadata": {},
   "outputs": [],
   "source": [
    "import pandas as pd\n",
    "import numpy as np\n",
    "import cv2 as cv\n",
    "from matplotlib import pyplot as plt\n",
    "import time\n",
    "from IPython.display import clear_output\n",
    "from sklearn.preprocessing import MinMaxScaler\n",
    "from sklearn.preprocessing import StandardScaler\n",
    "from sklearn.decomposition import PCA\n",
    "from sklearn.model_selection import GridSearchCV\n",
    "from sklearn.neighbors import KNeighborsClassifier"
   ]
  },
  {
   "cell_type": "code",
   "execution_count": 11,
   "id": "04f7a00c",
   "metadata": {},
   "outputs": [],
   "source": [
    "#Preprocess training set\n",
    "data=pd.read_csv('C:/Users/X99S5/Documents/AMLS_22-23_SN18046828/Datasets/cartoon_set/labels.csv')\n",
    "\n",
    "labelsTrain = data[\"\\teye_color\\tface_shape\\tfile_name\"].str.split(pat=\"\\t\", n=-1, expand=True)\n",
    "labelsTrain.drop(columns =[0,1], inplace = True)\n",
    "labelsTrain.columns = [ \"face_shape\" , \"img_name\"]\n",
    "labelsTrain = labelsTrain.astype({'face_shape': 'int32'})\n",
    "labelsTrain = labelsTrain.astype({'img_name': 'string'})\n",
    "\n",
    "#Preprocess testing set\n",
    "data=pd.read_csv('C:/Users/X99S5/Documents/AMLS_22-23_SN18046828/Datasets/cartoon_set_test/labels.csv')\n",
    "\n",
    "labelsTest = data[\"\\teye_color\\tface_shape\\tfile_name\"].str.split(pat=\"\\t\", n=-1, expand=True)\n",
    "labelsTest.drop(columns =[0,1], inplace = True)\n",
    "labelsTest.columns = [ \"face_shape\" , \"img_name\"]\n",
    "labelsTest = labelsTest.astype({'face_shape': 'int32'})\n",
    "labelsTest = labelsTest.astype({'img_name': 'string'})"
   ]
  },
  {
   "cell_type": "code",
   "execution_count": null,
   "id": "0010f420",
   "metadata": {},
   "outputs": [],
   "source": []
  },
  {
   "cell_type": "code",
   "execution_count": 133,
   "id": "7bd6d8f1",
   "metadata": {},
   "outputs": [
    {
     "name": "stdout",
     "output_type": "stream",
     "text": [
      "minimum_value:10\n",
      "mean_value:23.3855\n",
      "standard_deviation_value:4.914253732765535\n",
      "Z_score_value:2.7238113308543404\n"
     ]
    }
   ],
   "source": [
    "#left to right 19 pixel cut 19%\n",
    "av_lr=[]\n",
    "for i in range(0,10000):\n",
    "    image = cv.imread('C:/Users/X99S5/Documents/AMLS_22-23_SN18046828/Datasets/cartoon_set/img/' + labelsTrain[\"img_name\"][i])\n",
    "    image = cv.cvtColor(image, cv.COLOR_BGR2GRAY)\n",
    "    image = cv.resize(image, dsize=(100, 100), interpolation=cv.INTER_CUBIC)\n",
    "    lr=[]\n",
    "    for j in range(0,100):\n",
    "        \n",
    "        for j2 in range(0,100):\n",
    "            if image[j,j2] != 255:\n",
    "                lr.append(j2)\n",
    "                break\n",
    "    \n",
    "    av_lr.append(min(lr))\n",
    "\n",
    "print('minimum_value:' + str(min(av_lr)))\n",
    "print('mean_value:' + str(np.mean(av_lr)))\n",
    "print('standard_deviation_value:' + str(np.std(av_lr)))\n",
    "print('Z_score_value:' + str( (np.mean(av_lr)-min(av_lr))/np.std(av_lr) ) )"
   ]
  },
  {
   "cell_type": "code",
   "execution_count": 139,
   "id": "b6ae8d74",
   "metadata": {},
   "outputs": [
    {
     "name": "stdout",
     "output_type": "stream",
     "text": [
      "minimum_value:12\n",
      "mean_value:23.4961\n",
      "standard_deviation_value:5.009249922892648\n",
      "Z_score_value:2.2949743328760577\n"
     ]
    }
   ],
   "source": [
    "#right to left 19 pixel cut 19%\n",
    "av_lr=[]\n",
    "for i in range(0,10000):\n",
    "    image = cv.imread('C:/Users/X99S5/Documents/AMLS_22-23_SN18046828/Datasets/cartoon_set/img/' + labelsTrain[\"img_name\"][i])\n",
    "    image = cv.cvtColor(image, cv.COLOR_BGR2GRAY)\n",
    "    image = cv.resize(image, dsize=(100, 100), interpolation=cv.INTER_CUBIC)\n",
    "    lr=[]\n",
    "    for j in range(0,100):\n",
    "        \n",
    "        for j2 in range(99,0,-1):\n",
    "            if image[j,j2] != 255:\n",
    "                lr.append(100-j2)\n",
    "                break\n",
    "    \n",
    "    av_lr.append(min(lr))\n",
    "\n",
    "print('minimum_value:' + str(min(av_lr)))\n",
    "print('mean_value:' + str(np.mean(av_lr)))\n",
    "print('standard_deviation_value:' + str(np.std(av_lr)))\n",
    "print('Z_score_value:' + str( (np.mean(av_lr)-min(av_lr))/np.std(av_lr) ) )"
   ]
  },
  {
   "cell_type": "code",
   "execution_count": 142,
   "id": "53141e11",
   "metadata": {},
   "outputs": [
    {
     "name": "stdout",
     "output_type": "stream",
     "text": [
      "minimum_value:1\n",
      "mean_value:18.6578\n",
      "standard_deviation_value:3.9393018620055\n",
      "Z_score_value:4.482469386342079\n"
     ]
    }
   ],
   "source": [
    "#up to down 15 pixel cut 15%\n",
    "av_lr=[]\n",
    "for i in range(0,10000):\n",
    "    image = cv.imread('C:/Users/X99S5/Documents/AMLS_22-23_SN18046828/Datasets/cartoon_set/img/' + labelsTrain[\"img_name\"][i])\n",
    "    image = cv.cvtColor(image, cv.COLOR_BGR2GRAY)\n",
    "    image = cv.resize(image, dsize=(100, 100), interpolation=cv.INTER_CUBIC)\n",
    "    lr=[]\n",
    "    for j in range(0,100):\n",
    "        \n",
    "        for j2 in range(0,100):\n",
    "            if image[j2,j] != 255:\n",
    "                lr.append(j2)\n",
    "                break\n",
    "    \n",
    "    av_lr.append(min(lr))\n",
    "\n",
    "print('minimum_value:' + str(min(av_lr)))\n",
    "print('mean_value:' + str(np.mean(av_lr)))\n",
    "print('standard_deviation_value:' + str(np.std(av_lr)))\n",
    "print('Z_score_value:' + str( (np.mean(av_lr)-min(av_lr))/np.std(av_lr) ) )"
   ]
  },
  {
   "cell_type": "code",
   "execution_count": 143,
   "id": "034cca04",
   "metadata": {},
   "outputs": [
    {
     "name": "stdout",
     "output_type": "stream",
     "text": [
      "minimum_value:9\n",
      "mean_value:20.2186\n",
      "standard_deviation_value:4.127373746100539\n",
      "Z_score_value:2.718096467662787\n"
     ]
    }
   ],
   "source": [
    "#down to up 16 pixel 16%\n",
    "av_lr=[]\n",
    "for i in range(0,10000):\n",
    "    image = cv.imread('C:/Users/X99S5/Documents/AMLS_22-23_SN18046828/Datasets/cartoon_set/img/' + labelsTrain[\"img_name\"][i])\n",
    "    image = cv.cvtColor(image, cv.COLOR_BGR2GRAY)\n",
    "    image = cv.resize(image, dsize=(100, 100), interpolation=cv.INTER_CUBIC)\n",
    "    lr=[]\n",
    "    for j in range(0,100):\n",
    "        \n",
    "        for j2 in range(99,0,-1):\n",
    "            if image[j2,j] != 255:\n",
    "                lr.append(100-j2)\n",
    "                break\n",
    "    \n",
    "    av_lr.append(min(lr))\n",
    "\n",
    "print('minimum_value:' + str(min(av_lr)))\n",
    "print('mean_value:' + str(np.mean(av_lr)))\n",
    "print('standard_deviation_value:' + str(np.std(av_lr)))\n",
    "print('Z_score_value:' + str( (np.mean(av_lr)-min(av_lr))/np.std(av_lr) ) )"
   ]
  },
  {
   "cell_type": "code",
   "execution_count": null,
   "id": "3906f4da",
   "metadata": {},
   "outputs": [],
   "source": []
  },
  {
   "cell_type": "code",
   "execution_count": null,
   "id": "7936413e",
   "metadata": {},
   "outputs": [],
   "source": []
  },
  {
   "cell_type": "code",
   "execution_count": null,
   "id": "6fc71831",
   "metadata": {},
   "outputs": [],
   "source": []
  },
  {
   "cell_type": "code",
   "execution_count": null,
   "id": "a118de26",
   "metadata": {},
   "outputs": [],
   "source": []
  },
  {
   "cell_type": "code",
   "execution_count": 183,
   "id": "3370096c",
   "metadata": {},
   "outputs": [],
   "source": [
    "#Load training set################################\n",
    "imagesTrain = np.zeros((10000, 173, 155)) \n",
    "\n",
    "for i in range(0,10000):\n",
    "    image = cv.imread('C:/Users/X99S5/Documents/AMLS_22-23_SN18046828/Datasets/cartoon_set/img/' + labelsTrain[\"img_name\"][i])\n",
    "    image = image[75:420,95:405] # cut 95 from left / right sides , 75 from top, 80 from the bottom\n",
    "    image = cv.resize(image, dsize=(155 , 173), interpolation=cv.INTER_CUBIC)\n",
    "    imagesTrain[i] = cv.cvtColor(image, cv.COLOR_BGR2GRAY)\n",
    "    \n",
    "imagesTrain = imagesTrain.reshape(10000,26815)    \n",
    "imagesTrain = pd.DataFrame(imagesTrain) \n",
    "\n",
    "\n",
    "#Load Testing set################################\n",
    "imagesTest = np.zeros((2500, 173, 155))\n",
    "\n",
    "for i in range(0,2500):\n",
    "    image = cv.imread('C:/Users/X99S5/Documents/AMLS_22-23_SN18046828/Datasets/cartoon_set_test/img/' + labelsTest[\"img_name\"][i])\n",
    "    image = image[75:420,95:405]\n",
    "    image = cv.resize(image, dsize=(155 , 173), interpolation=cv.INTER_CUBIC)\n",
    "    imagesTest[i] = cv.cvtColor(image, cv.COLOR_BGR2GRAY)\n",
    "    \n",
    "    \n",
    "imagesTest = imagesTest.reshape(2500,26815)   \n",
    "imagesTest = pd.DataFrame(imagesTest) "
   ]
  },
  {
   "cell_type": "code",
   "execution_count": 188,
   "id": "d3098616",
   "metadata": {},
   "outputs": [
    {
     "data": {
      "text/plain": [
       "2"
      ]
     },
     "execution_count": 188,
     "metadata": {},
     "output_type": "execute_result"
    }
   ],
   "source": []
  },
  {
   "cell_type": "code",
   "execution_count": 226,
   "id": "a41a377e",
   "metadata": {},
   "outputs": [
    {
     "data": {
      "text/plain": [
       "0.8236"
      ]
     },
     "execution_count": 226,
     "metadata": {},
     "output_type": "execute_result"
    }
   ],
   "source": [
    "#accuracy = []\n",
    "#r=range(0,1000,100) #peaks at 950/1000\n",
    "#for i in r:\n",
    "model = KNeighborsClassifier(n_neighbors=1000)\n",
    "model.fit(imagesTrain,labelsTrain['face_shape'])\n",
    "model.score(imagesTest,labelsTest['face_shape'])\n",
    "#plt.plot(r,accuracy)    "
   ]
  },
  {
   "cell_type": "code",
   "execution_count": null,
   "id": "500a3861",
   "metadata": {},
   "outputs": [],
   "source": [
    "\n"
   ]
  },
  {
   "cell_type": "code",
   "execution_count": null,
   "id": "ba0c6333",
   "metadata": {},
   "outputs": [],
   "source": []
  }
 ],
 "metadata": {
  "kernelspec": {
   "display_name": "Python 3 (ipykernel)",
   "language": "python",
   "name": "python3"
  },
  "language_info": {
   "codemirror_mode": {
    "name": "ipython",
    "version": 3
   },
   "file_extension": ".py",
   "mimetype": "text/x-python",
   "name": "python",
   "nbconvert_exporter": "python",
   "pygments_lexer": "ipython3",
   "version": "3.10.8"
  }
 },
 "nbformat": 4,
 "nbformat_minor": 5
}
