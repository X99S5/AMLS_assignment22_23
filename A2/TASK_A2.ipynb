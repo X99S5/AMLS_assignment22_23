{
 "cells": [
  {
   "cell_type": "code",
   "execution_count": 1,
   "id": "a7a8a5d8",
   "metadata": {},
   "outputs": [],
   "source": [
    "import pandas as pd\n",
    "import numpy as np\n",
    "import cv2 as cv\n",
    "from matplotlib import pyplot as plt\n",
    "import time\n",
    "from IPython.display import clear_output\n",
    "from sklearn.preprocessing import MinMaxScaler\n",
    "from sklearn.preprocessing import StandardScaler\n",
    "from sklearn import tree\n",
    "from sklearn.decomposition import PCA\n",
    "from sklearn.tree import plot_tree\n",
    "from matplotlib.pylab import rcParams\n",
    "from sklearn.model_selection import GridSearchCV\n",
    "from sklearn.discriminant_analysis import LinearDiscriminantAnalysis as LDA\n",
    "from sklearn.linear_model import LogisticRegression\n",
    "from sklearn.neighbors import KNeighborsClassifier\n",
    "from sklearn.ensemble import RandomForestClassifier\n",
    "#rcParams['figure.figsize'] = 80,50"
   ]
  },
  {
   "cell_type": "code",
   "execution_count": 2,
   "id": "733a05d6",
   "metadata": {},
   "outputs": [],
   "source": [
    "#Preprocess training set\n",
    "data=pd.read_csv('C:/Users/X99S5/Documents/AMLS_22-23_SN18046828/Datasets/celeba/labels.csv')\n",
    "\n",
    "labelsTrain = data[\"\\timg_name\\tgender\\tsmiling\"].str.split(pat=\"\\t\", n=-1, expand=True)\n",
    "labelsTrain.drop(columns =[0,2], inplace = True)\n",
    "labelsTrain.columns = [\"img_name\"  , \"smiling\"]\n",
    "labelsTrain = labelsTrain.astype({'smiling': 'int32'})\n",
    "labelsTrain = labelsTrain.astype({'img_name': 'string'})\n",
    "\n",
    "#Preprocess testing set\n",
    "data=pd.read_csv('C:/Users/X99S5/Documents/AMLS_22-23_SN18046828/Datasets/celeba_test/labels.csv')\n",
    "\n",
    "labelsTest = data[\"\\timg_name\\tgender\\tsmiling\"].str.split(pat=\"\\t\", n=-1, expand=True)\n",
    "labelsTest.drop(columns =[0,2], inplace = True)\n",
    "labelsTest.columns = [\"img_name\"  , \"smiling\"]\n",
    "labelsTest = labelsTest.astype({'smiling': 'int32'})\n",
    "labelsTest = labelsTest.astype({'img_name': 'string'})\n"
   ]
  },
  {
   "cell_type": "code",
   "execution_count": null,
   "id": "b9cf8cf1",
   "metadata": {},
   "outputs": [],
   "source": []
  },
  {
   "cell_type": "code",
   "execution_count": 3,
   "id": "bb7296e3",
   "metadata": {},
   "outputs": [],
   "source": [
    "#Load training set################################\n",
    "imagesTrain = np.zeros((5000, 218, 178))\n",
    "\n",
    "for i in range(0,5000):\n",
    "    image = cv.imread('C:/Users/X99S5/Documents/AMLS_22-23_SN18046828/Datasets/celeba/img/' + labelsTrain[\"img_name\"][i])\n",
    "    image = cv.cvtColor(image, cv.COLOR_BGR2GRAY)\n",
    "    imagesTrain[i] = image\n",
    "    \n",
    "imagesTrain = imagesTrain.reshape(5000,38804)    \n",
    "imagesTrain = pd.DataFrame(imagesTrain) \n",
    "\n",
    "\n",
    "#Load Testing set################################\n",
    "imagesTest = np.zeros((1000, 218, 178))\n",
    "\n",
    "for i in range(0,1000):\n",
    "    image = cv.imread('C:/Users/X99S5/Documents/AMLS_22-23_SN18046828/Datasets/celeba_test/img/' + labelsTest[\"img_name\"][i])\n",
    "    image = cv.cvtColor(image, cv.COLOR_BGR2GRAY)\n",
    "    imagesTest[i] = image\n",
    "    \n",
    "imagesTest = imagesTest.reshape(1000,38804)   \n",
    "\n",
    "imagesTest = pd.DataFrame(imagesTest) "
   ]
  },
  {
   "cell_type": "code",
   "execution_count": null,
   "id": "dc0d7163",
   "metadata": {},
   "outputs": [],
   "source": []
  },
  {
   "cell_type": "code",
   "execution_count": 16,
   "id": "acba3cc5",
   "metadata": {},
   "outputs": [],
   "source": [
    "#scale coversion\n",
    "scaler = MinMaxScaler()\n",
    "\n",
    "imagesTrain_scaled = scaler.fit_transform(imagesTrain)\n",
    "imagesTest_scaled = scaler.transform(imagesTest)\n"
   ]
  },
  {
   "cell_type": "code",
   "execution_count": 18,
   "id": "47674047",
   "metadata": {},
   "outputs": [],
   "source": [
    "\n",
    "#PCA conversion\n",
    "pca = PCA(n_components = 250)\n",
    "\n",
    "imagesTrain_pca = pca.fit_transform(imagesTrain_scaled)\n",
    "imagesTest_pca = pca.transform(imagesTest_scaled)\n",
    "\n",
    "imagesTrain_pca = pd.DataFrame(imagesTrain_pca) \n",
    "imagesTest_pca = pd.DataFrame(imagesTest_pca) "
   ]
  },
  {
   "cell_type": "code",
   "execution_count": 8,
   "id": "857ed339",
   "metadata": {},
   "outputs": [
    {
     "data": {
      "text/plain": [
       "0.813"
      ]
     },
     "execution_count": 8,
     "metadata": {},
     "output_type": "execute_result"
    }
   ],
   "source": [
    "#decision tree##### \n",
    "model = tree.DecisionTreeClassifier(max_depth=5,criterion = 'gini')\n",
    "model.fit(imagesTrain_pca,labelsTrain['smiling'])\n",
    "model.score(imagesTest_pca,labelsTest['smiling'])"
   ]
  },
  {
   "cell_type": "code",
   "execution_count": 26,
   "id": "c4661680",
   "metadata": {},
   "outputs": [
    {
     "name": "stdout",
     "output_type": "stream",
     "text": [
      "0.575\n",
      "0.658\n",
      "0.687\n",
      "0.709\n",
      "0.738\n",
      "0.727\n",
      "0.734\n",
      "0.756\n",
      "0.772\n",
      "0.763\n",
      "0.777\n",
      "0.772\n",
      "0.776\n",
      "0.793\n",
      "0.78\n",
      "0.799\n",
      "0.785\n",
      "0.789\n",
      "0.779\n",
      "0.804\n",
      "0.793\n",
      "0.803\n",
      "0.801\n",
      "0.8\n",
      "0.799\n",
      "0.798\n",
      "0.801\n",
      "0.816\n",
      "0.802\n",
      "0.811\n"
     ]
    }
   ],
   "source": [
    "#random forest\n",
    "for i in range(1,301,10):\n",
    "    model = RandomForestClassifier(n_estimators = i , n_jobs = -1)\n",
    "    model.fit(imagesTrain_pca,labelsTrain['smiling'])\n",
    "    print(model.score(imagesTest_pca,labelsTest['smiling']))"
   ]
  },
  {
   "cell_type": "code",
   "execution_count": 42,
   "id": "de551d34",
   "metadata": {},
   "outputs": [],
   "source": []
  },
  {
   "cell_type": "code",
   "execution_count": 197,
   "id": "d2e37359",
   "metadata": {},
   "outputs": [],
   "source": [
    "hyper_params = {\n",
    "    #'max_features' : [i*5 for i in range(1,30)],\n",
    "    'max_depth' : [3,6,7]\n",
    "}"
   ]
  },
  {
   "cell_type": "code",
   "execution_count": 198,
   "id": "6a0a4308",
   "metadata": {},
   "outputs": [],
   "source": [
    "model = tree.DecisionTreeClassifier()\n",
    "grid=GridSearchCV(model , param_grid=hyper_params , cv=10 , n_jobs=-1)"
   ]
  },
  {
   "cell_type": "code",
   "execution_count": 199,
   "id": "677e6b6a",
   "metadata": {},
   "outputs": [
    {
     "data": {
      "text/html": [
       "<style>#sk-container-id-1 {color: black;background-color: white;}#sk-container-id-1 pre{padding: 0;}#sk-container-id-1 div.sk-toggleable {background-color: white;}#sk-container-id-1 label.sk-toggleable__label {cursor: pointer;display: block;width: 100%;margin-bottom: 0;padding: 0.3em;box-sizing: border-box;text-align: center;}#sk-container-id-1 label.sk-toggleable__label-arrow:before {content: \"▸\";float: left;margin-right: 0.25em;color: #696969;}#sk-container-id-1 label.sk-toggleable__label-arrow:hover:before {color: black;}#sk-container-id-1 div.sk-estimator:hover label.sk-toggleable__label-arrow:before {color: black;}#sk-container-id-1 div.sk-toggleable__content {max-height: 0;max-width: 0;overflow: hidden;text-align: left;background-color: #f0f8ff;}#sk-container-id-1 div.sk-toggleable__content pre {margin: 0.2em;color: black;border-radius: 0.25em;background-color: #f0f8ff;}#sk-container-id-1 input.sk-toggleable__control:checked~div.sk-toggleable__content {max-height: 200px;max-width: 100%;overflow: auto;}#sk-container-id-1 input.sk-toggleable__control:checked~label.sk-toggleable__label-arrow:before {content: \"▾\";}#sk-container-id-1 div.sk-estimator input.sk-toggleable__control:checked~label.sk-toggleable__label {background-color: #d4ebff;}#sk-container-id-1 div.sk-label input.sk-toggleable__control:checked~label.sk-toggleable__label {background-color: #d4ebff;}#sk-container-id-1 input.sk-hidden--visually {border: 0;clip: rect(1px 1px 1px 1px);clip: rect(1px, 1px, 1px, 1px);height: 1px;margin: -1px;overflow: hidden;padding: 0;position: absolute;width: 1px;}#sk-container-id-1 div.sk-estimator {font-family: monospace;background-color: #f0f8ff;border: 1px dotted black;border-radius: 0.25em;box-sizing: border-box;margin-bottom: 0.5em;}#sk-container-id-1 div.sk-estimator:hover {background-color: #d4ebff;}#sk-container-id-1 div.sk-parallel-item::after {content: \"\";width: 100%;border-bottom: 1px solid gray;flex-grow: 1;}#sk-container-id-1 div.sk-label:hover label.sk-toggleable__label {background-color: #d4ebff;}#sk-container-id-1 div.sk-serial::before {content: \"\";position: absolute;border-left: 1px solid gray;box-sizing: border-box;top: 0;bottom: 0;left: 50%;z-index: 0;}#sk-container-id-1 div.sk-serial {display: flex;flex-direction: column;align-items: center;background-color: white;padding-right: 0.2em;padding-left: 0.2em;position: relative;}#sk-container-id-1 div.sk-item {position: relative;z-index: 1;}#sk-container-id-1 div.sk-parallel {display: flex;align-items: stretch;justify-content: center;background-color: white;position: relative;}#sk-container-id-1 div.sk-item::before, #sk-container-id-1 div.sk-parallel-item::before {content: \"\";position: absolute;border-left: 1px solid gray;box-sizing: border-box;top: 0;bottom: 0;left: 50%;z-index: -1;}#sk-container-id-1 div.sk-parallel-item {display: flex;flex-direction: column;z-index: 1;position: relative;background-color: white;}#sk-container-id-1 div.sk-parallel-item:first-child::after {align-self: flex-end;width: 50%;}#sk-container-id-1 div.sk-parallel-item:last-child::after {align-self: flex-start;width: 50%;}#sk-container-id-1 div.sk-parallel-item:only-child::after {width: 0;}#sk-container-id-1 div.sk-dashed-wrapped {border: 1px dashed gray;margin: 0 0.4em 0.5em 0.4em;box-sizing: border-box;padding-bottom: 0.4em;background-color: white;}#sk-container-id-1 div.sk-label label {font-family: monospace;font-weight: bold;display: inline-block;line-height: 1.2em;}#sk-container-id-1 div.sk-label-container {text-align: center;}#sk-container-id-1 div.sk-container {/* jupyter's `normalize.less` sets `[hidden] { display: none; }` but bootstrap.min.css set `[hidden] { display: none !important; }` so we also need the `!important` here to be able to override the default hidden behavior on the sphinx rendered scikit-learn.org. See: https://github.com/scikit-learn/scikit-learn/issues/21755 */display: inline-block !important;position: relative;}#sk-container-id-1 div.sk-text-repr-fallback {display: none;}</style><div id=\"sk-container-id-1\" class=\"sk-top-container\"><div class=\"sk-text-repr-fallback\"><pre>GridSearchCV(cv=10, estimator=DecisionTreeClassifier(), n_jobs=-1,\n",
       "             param_grid={&#x27;max_depth&#x27;: [3, 6, 7]})</pre><b>In a Jupyter environment, please rerun this cell to show the HTML representation or trust the notebook. <br />On GitHub, the HTML representation is unable to render, please try loading this page with nbviewer.org.</b></div><div class=\"sk-container\" hidden><div class=\"sk-item sk-dashed-wrapped\"><div class=\"sk-label-container\"><div class=\"sk-label sk-toggleable\"><input class=\"sk-toggleable__control sk-hidden--visually\" id=\"sk-estimator-id-1\" type=\"checkbox\" ><label for=\"sk-estimator-id-1\" class=\"sk-toggleable__label sk-toggleable__label-arrow\">GridSearchCV</label><div class=\"sk-toggleable__content\"><pre>GridSearchCV(cv=10, estimator=DecisionTreeClassifier(), n_jobs=-1,\n",
       "             param_grid={&#x27;max_depth&#x27;: [3, 6, 7]})</pre></div></div></div><div class=\"sk-parallel\"><div class=\"sk-parallel-item\"><div class=\"sk-item\"><div class=\"sk-label-container\"><div class=\"sk-label sk-toggleable\"><input class=\"sk-toggleable__control sk-hidden--visually\" id=\"sk-estimator-id-2\" type=\"checkbox\" ><label for=\"sk-estimator-id-2\" class=\"sk-toggleable__label sk-toggleable__label-arrow\">estimator: DecisionTreeClassifier</label><div class=\"sk-toggleable__content\"><pre>DecisionTreeClassifier()</pre></div></div></div><div class=\"sk-serial\"><div class=\"sk-item\"><div class=\"sk-estimator sk-toggleable\"><input class=\"sk-toggleable__control sk-hidden--visually\" id=\"sk-estimator-id-3\" type=\"checkbox\" ><label for=\"sk-estimator-id-3\" class=\"sk-toggleable__label sk-toggleable__label-arrow\">DecisionTreeClassifier</label><div class=\"sk-toggleable__content\"><pre>DecisionTreeClassifier()</pre></div></div></div></div></div></div></div></div></div></div>"
      ],
      "text/plain": [
       "GridSearchCV(cv=10, estimator=DecisionTreeClassifier(), n_jobs=-1,\n",
       "             param_grid={'max_depth': [3, 6, 7]})"
      ]
     },
     "execution_count": 199,
     "metadata": {},
     "output_type": "execute_result"
    }
   ],
   "source": [
    "grid.fit(imagesTrain_scaled,labelsTrain['smiling'])"
   ]
  },
  {
   "cell_type": "code",
   "execution_count": 206,
   "id": "85f2b6cd",
   "metadata": {},
   "outputs": [
    {
     "data": {
      "text/plain": [
       "1"
      ]
     },
     "execution_count": 206,
     "metadata": {},
     "output_type": "execute_result"
    }
   ],
   "source": [
    "grid.best_index_"
   ]
  },
  {
   "cell_type": "code",
   "execution_count": null,
   "id": "f55f3549",
   "metadata": {},
   "outputs": [],
   "source": []
  },
  {
   "cell_type": "code",
   "execution_count": null,
   "id": "14382971",
   "metadata": {},
   "outputs": [],
   "source": []
  },
  {
   "cell_type": "code",
   "execution_count": 16,
   "id": "f582aa5c",
   "metadata": {
    "scrolled": false
   },
   "outputs": [
    {
     "data": {
      "text/plain": [
       "[Text(0.5, 0.8333333333333334, 'X[0] <= -0.221\\ngini = 0.5\\nsamples = 5000\\nvalue = [2500, 2500]'),\n",
       " Text(0.25, 0.5, 'X[0] <= -0.49\\ngini = 0.041\\nsamples = 2488\\nvalue = [2436, 52]'),\n",
       " Text(0.125, 0.16666666666666666, 'gini = 0.03\\nsamples = 2452\\nvalue = [2415, 37]'),\n",
       " Text(0.375, 0.16666666666666666, 'gini = 0.486\\nsamples = 36\\nvalue = [21, 15]'),\n",
       " Text(0.75, 0.5, 'X[0] <= 0.361\\ngini = 0.05\\nsamples = 2512\\nvalue = [64, 2448]'),\n",
       " Text(0.625, 0.16666666666666666, 'gini = 0.493\\nsamples = 77\\nvalue = [34, 43]'),\n",
       " Text(0.875, 0.16666666666666666, 'gini = 0.024\\nsamples = 2435\\nvalue = [30, 2405]')]"
      ]
     },
     "execution_count": 16,
     "metadata": {},
     "output_type": "execute_result"
    },
    {
     "data": {
      "image/png": "[encoded data removed]",
      "text/plain": [
       "<Figure size 640x480 with 1 Axes>"
      ]
     },
     "metadata": {},
     "output_type": "display_data"
    }
   ],
   "source": [
    "plot_tree(model)"
   ]
  },
  {
   "cell_type": "code",
   "execution_count": null,
   "id": "7f9941f9",
   "metadata": {},
   "outputs": [],
   "source": []
  }
 ],
 "metadata": {
  "kernelspec": {
   "display_name": "Python 3 (ipykernel)",
   "language": "python",
   "name": "python3"
  },
  "language_info": {
   "codemirror_mode": {
    "name": "ipython",
    "version": 3
   },
   "file_extension": ".py",
   "mimetype": "text/x-python",
   "name": "python",
   "nbconvert_exporter": "python",
   "pygments_lexer": "ipython3",
   "version": "3.10.8"
  }
 },
 "nbformat": 4,
 "nbformat_minor": 5
}
