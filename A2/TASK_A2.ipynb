{
 "cells": [
  {
   "cell_type": "code",
   "execution_count": 3,
   "id": "a7a8a5d8",
   "metadata": {},
   "outputs": [],
   "source": [
    "import pandas as pd\n",
    "import numpy as np\n",
    "import cv2 as cv\n",
    "from matplotlib import pyplot as plt\n",
    "import time\n",
    "from IPython.display import clear_output\n",
    "from sklearn.preprocessing import MinMaxScaler\n",
    "from sklearn.preprocessing import StandardScaler\n",
    "from sklearn import tree\n",
    "from sklearn.decomposition import PCA\n",
    "from sklearn.tree import plot_tree\n",
    "from matplotlib.pylab import rcParams\n",
    "from sklearn.model_selection import GridSearchCV\n",
    "from sklearn.discriminant_analysis import LinearDiscriminantAnalysis as LDA\n",
    "from sklearn.linear_model import LogisticRegression\n",
    "from sklearn.neighbors import KNeighborsClassifier\n",
    "from sklearn.ensemble import RandomForestClassifier\n",
    "#rcParams['figure.figsize'] = 80,50"
   ]
  },
  {
   "cell_type": "code",
   "execution_count": 9,
   "id": "733a05d6",
   "metadata": {},
   "outputs": [],
   "source": [
    "#Preprocess training set\n",
    "data=pd.read_csv('C:/Users/X99S5/Documents/AMLS_22-23_SN18046828/Datasets/celeba/labels.csv')\n",
    "\n",
    "labelsTrain = data[\"\\timg_name\\tgender\\tsmiling\"].str.split(pat=\"\\t\", n=-1, expand=True)\n",
    "labelsTrain.drop(columns =[0,2], inplace = True)\n",
    "labelsTrain.columns = [\"img_name\"  , \"smiling\"]\n",
    "labelsTrain = labelsTrain.astype({'smiling': 'int32'})\n",
    "labelsTrain = labelsTrain.astype({'img_name': 'string'})\n",
    "\n",
    "#Preprocess testing set\n",
    "data=pd.read_csv('C:/Users/X99S5/Documents/AMLS_22-23_SN18046828/Datasets/celeba_test/labels.csv')\n",
    "\n",
    "labelsTest = data[\"\\timg_name\\tgender\\tsmiling\"].str.split(pat=\"\\t\", n=-1, expand=True)\n",
    "labelsTest.drop(columns =[0,2], inplace = True)\n",
    "labelsTest.columns = [\"img_name\"  , \"smiling\"]\n",
    "labelsTest = labelsTest.astype({'smiling': 'int32'})\n",
    "labelsTest = labelsTest.astype({'img_name': 'string'})\n"
   ]
  },
  {
   "cell_type": "code",
   "execution_count": null,
   "id": "b9cf8cf1",
   "metadata": {},
   "outputs": [],
   "source": []
  },
  {
   "cell_type": "code",
   "execution_count": 10,
   "id": "bb7296e3",
   "metadata": {},
   "outputs": [],
   "source": [
    "#Load training set################################\n",
    "imagesTrain = np.zeros((5000, 150, 150,3))\n",
    "\n",
    "for i in range(0,5000):\n",
    "    image = cv.imread('C:/Users/X99S5/Documents/AMLS_22-23_SN18046828/Datasets/celeba/img/' + labelsTrain[\"img_name\"][i])\n",
    "    #image = cv.cvtColor(image, cv.COLOR_BGR2GRAY)\n",
    "    image = cv.resize(image, dsize=(150 , 150), interpolation=cv.INTER_CUBIC)\n",
    "    imagesTrain[i] = image\n",
    "    \n",
    "# imagesTrain = imagesTrain.reshape(5000,38804)    \n",
    "# imagesTrain = pd.DataFrame(imagesTrain) \n",
    "\n",
    "\n",
    "#Load Testing set################################\n",
    "imagesTest = np.zeros((1000, 150, 150,3))\n",
    "\n",
    "for i in range(0,1000):\n",
    "    image = cv.imread('C:/Users/X99S5/Documents/AMLS_22-23_SN18046828/Datasets/celeba_test/img/' + labelsTest[\"img_name\"][i])\n",
    "    #image = cv.cvtColor(image, cv.COLOR_BGR2GRAY)\n",
    "    image = cv.resize(image, dsize=(150 , 150), interpolation=cv.INTER_CUBIC)\n",
    "    imagesTest[i] = image\n",
    "    \n",
    "# imagesTest = imagesTest.reshape(1000,38804)   \n",
    "\n",
    "# imagesTest = pd.DataFrame(imagesTest) "
   ]
  },
  {
   "cell_type": "code",
   "execution_count": null,
   "id": "dc0d7163",
   "metadata": {},
   "outputs": [],
   "source": []
  },
  {
   "cell_type": "code",
   "execution_count": 16,
   "id": "acba3cc5",
   "metadata": {},
   "outputs": [],
   "source": [
    "\n"
   ]
  },
  {
   "cell_type": "code",
   "execution_count": null,
   "id": "47674047",
   "metadata": {},
   "outputs": [],
   "source": []
  },
  {
   "cell_type": "code",
   "execution_count": 56,
   "id": "857ed339",
   "metadata": {},
   "outputs": [
    {
     "data": {
      "text/plain": [
       "0.818"
      ]
     },
     "execution_count": 56,
     "metadata": {},
     "output_type": "execute_result"
    }
   ],
   "source": [
    "#decision tree##### \n",
    "model = tree.DecisionTreeClassifier(max_depth=6,criterion = 'gini')\n",
    "model.fit(imagesTrain,labelsTrain['smiling'])\n",
    "model.score(imagesTest,labelsTest['smiling'])"
   ]
  },
  {
   "cell_type": "code",
   "execution_count": 72,
   "id": "c4661680",
   "metadata": {},
   "outputs": [
    {
     "name": "stdout",
     "output_type": "stream",
     "text": [
      "0.857\n"
     ]
    }
   ],
   "source": [
    "#random forest\n",
    "\n",
    "model = RandomForestClassifier(criterion='entropy', max_depth=5, n_estimators=140, n_jobs=-1)\n",
    "model.fit(imagesTrain,labelsTrain['smiling'])\n",
    "print(model.score(imagesTest,labelsTest['smiling']))"
   ]
  },
  {
   "cell_type": "code",
   "execution_count": 42,
   "id": "de551d34",
   "metadata": {},
   "outputs": [],
   "source": []
  },
  {
   "cell_type": "code",
   "execution_count": 65,
   "id": "d2e37359",
   "metadata": {},
   "outputs": [],
   "source": [
    "hyper_params = {\n",
    "    'max_depth' : [2,3,4,5],\n",
    "    'n_estimators' : [140, 180, 240],\n",
    "    'criterion' : ['gini' , 'entropy']\n",
    "}"
   ]
  },
  {
   "cell_type": "code",
   "execution_count": 68,
   "id": "6a0a4308",
   "metadata": {},
   "outputs": [],
   "source": [
    "model = RandomForestClassifier(n_jobs = -1)\n",
    "grid=GridSearchCV(model , param_grid=hyper_params , cv=10 , n_jobs=-1 ,  verbose=10)"
   ]
  },
  {
   "cell_type": "code",
   "execution_count": 69,
   "id": "677e6b6a",
   "metadata": {},
   "outputs": [
    {
     "name": "stdout",
     "output_type": "stream",
     "text": [
      "Fitting 10 folds for each of 24 candidates, totalling 240 fits\n"
     ]
    },
    {
     "data": {
      "text/html": [
       "<style>#sk-container-id-1 {color: black;background-color: white;}#sk-container-id-1 pre{padding: 0;}#sk-container-id-1 div.sk-toggleable {background-color: white;}#sk-container-id-1 label.sk-toggleable__label {cursor: pointer;display: block;width: 100%;margin-bottom: 0;padding: 0.3em;box-sizing: border-box;text-align: center;}#sk-container-id-1 label.sk-toggleable__label-arrow:before {content: \"▸\";float: left;margin-right: 0.25em;color: #696969;}#sk-container-id-1 label.sk-toggleable__label-arrow:hover:before {color: black;}#sk-container-id-1 div.sk-estimator:hover label.sk-toggleable__label-arrow:before {color: black;}#sk-container-id-1 div.sk-toggleable__content {max-height: 0;max-width: 0;overflow: hidden;text-align: left;background-color: #f0f8ff;}#sk-container-id-1 div.sk-toggleable__content pre {margin: 0.2em;color: black;border-radius: 0.25em;background-color: #f0f8ff;}#sk-container-id-1 input.sk-toggleable__control:checked~div.sk-toggleable__content {max-height: 200px;max-width: 100%;overflow: auto;}#sk-container-id-1 input.sk-toggleable__control:checked~label.sk-toggleable__label-arrow:before {content: \"▾\";}#sk-container-id-1 div.sk-estimator input.sk-toggleable__control:checked~label.sk-toggleable__label {background-color: #d4ebff;}#sk-container-id-1 div.sk-label input.sk-toggleable__control:checked~label.sk-toggleable__label {background-color: #d4ebff;}#sk-container-id-1 input.sk-hidden--visually {border: 0;clip: rect(1px 1px 1px 1px);clip: rect(1px, 1px, 1px, 1px);height: 1px;margin: -1px;overflow: hidden;padding: 0;position: absolute;width: 1px;}#sk-container-id-1 div.sk-estimator {font-family: monospace;background-color: #f0f8ff;border: 1px dotted black;border-radius: 0.25em;box-sizing: border-box;margin-bottom: 0.5em;}#sk-container-id-1 div.sk-estimator:hover {background-color: #d4ebff;}#sk-container-id-1 div.sk-parallel-item::after {content: \"\";width: 100%;border-bottom: 1px solid gray;flex-grow: 1;}#sk-container-id-1 div.sk-label:hover label.sk-toggleable__label {background-color: #d4ebff;}#sk-container-id-1 div.sk-serial::before {content: \"\";position: absolute;border-left: 1px solid gray;box-sizing: border-box;top: 0;bottom: 0;left: 50%;z-index: 0;}#sk-container-id-1 div.sk-serial {display: flex;flex-direction: column;align-items: center;background-color: white;padding-right: 0.2em;padding-left: 0.2em;position: relative;}#sk-container-id-1 div.sk-item {position: relative;z-index: 1;}#sk-container-id-1 div.sk-parallel {display: flex;align-items: stretch;justify-content: center;background-color: white;position: relative;}#sk-container-id-1 div.sk-item::before, #sk-container-id-1 div.sk-parallel-item::before {content: \"\";position: absolute;border-left: 1px solid gray;box-sizing: border-box;top: 0;bottom: 0;left: 50%;z-index: -1;}#sk-container-id-1 div.sk-parallel-item {display: flex;flex-direction: column;z-index: 1;position: relative;background-color: white;}#sk-container-id-1 div.sk-parallel-item:first-child::after {align-self: flex-end;width: 50%;}#sk-container-id-1 div.sk-parallel-item:last-child::after {align-self: flex-start;width: 50%;}#sk-container-id-1 div.sk-parallel-item:only-child::after {width: 0;}#sk-container-id-1 div.sk-dashed-wrapped {border: 1px dashed gray;margin: 0 0.4em 0.5em 0.4em;box-sizing: border-box;padding-bottom: 0.4em;background-color: white;}#sk-container-id-1 div.sk-label label {font-family: monospace;font-weight: bold;display: inline-block;line-height: 1.2em;}#sk-container-id-1 div.sk-label-container {text-align: center;}#sk-container-id-1 div.sk-container {/* jupyter's `normalize.less` sets `[hidden] { display: none; }` but bootstrap.min.css set `[hidden] { display: none !important; }` so we also need the `!important` here to be able to override the default hidden behavior on the sphinx rendered scikit-learn.org. See: https://github.com/scikit-learn/scikit-learn/issues/21755 */display: inline-block !important;position: relative;}#sk-container-id-1 div.sk-text-repr-fallback {display: none;}</style><div id=\"sk-container-id-1\" class=\"sk-top-container\"><div class=\"sk-text-repr-fallback\"><pre>GridSearchCV(cv=10, estimator=RandomForestClassifier(n_jobs=-1), n_jobs=-1,\n",
       "             param_grid={&#x27;criterion&#x27;: [&#x27;gini&#x27;, &#x27;entropy&#x27;],\n",
       "                         &#x27;max_depth&#x27;: [2, 3, 4, 5],\n",
       "                         &#x27;n_estimators&#x27;: [140, 180, 240]},\n",
       "             verbose=10)</pre><b>In a Jupyter environment, please rerun this cell to show the HTML representation or trust the notebook. <br />On GitHub, the HTML representation is unable to render, please try loading this page with nbviewer.org.</b></div><div class=\"sk-container\" hidden><div class=\"sk-item sk-dashed-wrapped\"><div class=\"sk-label-container\"><div class=\"sk-label sk-toggleable\"><input class=\"sk-toggleable__control sk-hidden--visually\" id=\"sk-estimator-id-1\" type=\"checkbox\" ><label for=\"sk-estimator-id-1\" class=\"sk-toggleable__label sk-toggleable__label-arrow\">GridSearchCV</label><div class=\"sk-toggleable__content\"><pre>GridSearchCV(cv=10, estimator=RandomForestClassifier(n_jobs=-1), n_jobs=-1,\n",
       "             param_grid={&#x27;criterion&#x27;: [&#x27;gini&#x27;, &#x27;entropy&#x27;],\n",
       "                         &#x27;max_depth&#x27;: [2, 3, 4, 5],\n",
       "                         &#x27;n_estimators&#x27;: [140, 180, 240]},\n",
       "             verbose=10)</pre></div></div></div><div class=\"sk-parallel\"><div class=\"sk-parallel-item\"><div class=\"sk-item\"><div class=\"sk-label-container\"><div class=\"sk-label sk-toggleable\"><input class=\"sk-toggleable__control sk-hidden--visually\" id=\"sk-estimator-id-2\" type=\"checkbox\" ><label for=\"sk-estimator-id-2\" class=\"sk-toggleable__label sk-toggleable__label-arrow\">estimator: RandomForestClassifier</label><div class=\"sk-toggleable__content\"><pre>RandomForestClassifier(n_jobs=-1)</pre></div></div></div><div class=\"sk-serial\"><div class=\"sk-item\"><div class=\"sk-estimator sk-toggleable\"><input class=\"sk-toggleable__control sk-hidden--visually\" id=\"sk-estimator-id-3\" type=\"checkbox\" ><label for=\"sk-estimator-id-3\" class=\"sk-toggleable__label sk-toggleable__label-arrow\">RandomForestClassifier</label><div class=\"sk-toggleable__content\"><pre>RandomForestClassifier(n_jobs=-1)</pre></div></div></div></div></div></div></div></div></div></div>"
      ],
      "text/plain": [
       "GridSearchCV(cv=10, estimator=RandomForestClassifier(n_jobs=-1), n_jobs=-1,\n",
       "             param_grid={'criterion': ['gini', 'entropy'],\n",
       "                         'max_depth': [2, 3, 4, 5],\n",
       "                         'n_estimators': [140, 180, 240]},\n",
       "             verbose=10)"
      ]
     },
     "execution_count": 69,
     "metadata": {},
     "output_type": "execute_result"
    }
   ],
   "source": [
    "grid.fit(imagesTrain,labelsTrain['smiling'])"
   ]
  },
  {
   "cell_type": "code",
   "execution_count": 70,
   "id": "85f2b6cd",
   "metadata": {},
   "outputs": [
    {
     "data": {
      "text/html": [
       "<style>#sk-container-id-2 {color: black;background-color: white;}#sk-container-id-2 pre{padding: 0;}#sk-container-id-2 div.sk-toggleable {background-color: white;}#sk-container-id-2 label.sk-toggleable__label {cursor: pointer;display: block;width: 100%;margin-bottom: 0;padding: 0.3em;box-sizing: border-box;text-align: center;}#sk-container-id-2 label.sk-toggleable__label-arrow:before {content: \"▸\";float: left;margin-right: 0.25em;color: #696969;}#sk-container-id-2 label.sk-toggleable__label-arrow:hover:before {color: black;}#sk-container-id-2 div.sk-estimator:hover label.sk-toggleable__label-arrow:before {color: black;}#sk-container-id-2 div.sk-toggleable__content {max-height: 0;max-width: 0;overflow: hidden;text-align: left;background-color: #f0f8ff;}#sk-container-id-2 div.sk-toggleable__content pre {margin: 0.2em;color: black;border-radius: 0.25em;background-color: #f0f8ff;}#sk-container-id-2 input.sk-toggleable__control:checked~div.sk-toggleable__content {max-height: 200px;max-width: 100%;overflow: auto;}#sk-container-id-2 input.sk-toggleable__control:checked~label.sk-toggleable__label-arrow:before {content: \"▾\";}#sk-container-id-2 div.sk-estimator input.sk-toggleable__control:checked~label.sk-toggleable__label {background-color: #d4ebff;}#sk-container-id-2 div.sk-label input.sk-toggleable__control:checked~label.sk-toggleable__label {background-color: #d4ebff;}#sk-container-id-2 input.sk-hidden--visually {border: 0;clip: rect(1px 1px 1px 1px);clip: rect(1px, 1px, 1px, 1px);height: 1px;margin: -1px;overflow: hidden;padding: 0;position: absolute;width: 1px;}#sk-container-id-2 div.sk-estimator {font-family: monospace;background-color: #f0f8ff;border: 1px dotted black;border-radius: 0.25em;box-sizing: border-box;margin-bottom: 0.5em;}#sk-container-id-2 div.sk-estimator:hover {background-color: #d4ebff;}#sk-container-id-2 div.sk-parallel-item::after {content: \"\";width: 100%;border-bottom: 1px solid gray;flex-grow: 1;}#sk-container-id-2 div.sk-label:hover label.sk-toggleable__label {background-color: #d4ebff;}#sk-container-id-2 div.sk-serial::before {content: \"\";position: absolute;border-left: 1px solid gray;box-sizing: border-box;top: 0;bottom: 0;left: 50%;z-index: 0;}#sk-container-id-2 div.sk-serial {display: flex;flex-direction: column;align-items: center;background-color: white;padding-right: 0.2em;padding-left: 0.2em;position: relative;}#sk-container-id-2 div.sk-item {position: relative;z-index: 1;}#sk-container-id-2 div.sk-parallel {display: flex;align-items: stretch;justify-content: center;background-color: white;position: relative;}#sk-container-id-2 div.sk-item::before, #sk-container-id-2 div.sk-parallel-item::before {content: \"\";position: absolute;border-left: 1px solid gray;box-sizing: border-box;top: 0;bottom: 0;left: 50%;z-index: -1;}#sk-container-id-2 div.sk-parallel-item {display: flex;flex-direction: column;z-index: 1;position: relative;background-color: white;}#sk-container-id-2 div.sk-parallel-item:first-child::after {align-self: flex-end;width: 50%;}#sk-container-id-2 div.sk-parallel-item:last-child::after {align-self: flex-start;width: 50%;}#sk-container-id-2 div.sk-parallel-item:only-child::after {width: 0;}#sk-container-id-2 div.sk-dashed-wrapped {border: 1px dashed gray;margin: 0 0.4em 0.5em 0.4em;box-sizing: border-box;padding-bottom: 0.4em;background-color: white;}#sk-container-id-2 div.sk-label label {font-family: monospace;font-weight: bold;display: inline-block;line-height: 1.2em;}#sk-container-id-2 div.sk-label-container {text-align: center;}#sk-container-id-2 div.sk-container {/* jupyter's `normalize.less` sets `[hidden] { display: none; }` but bootstrap.min.css set `[hidden] { display: none !important; }` so we also need the `!important` here to be able to override the default hidden behavior on the sphinx rendered scikit-learn.org. See: https://github.com/scikit-learn/scikit-learn/issues/21755 */display: inline-block !important;position: relative;}#sk-container-id-2 div.sk-text-repr-fallback {display: none;}</style><div id=\"sk-container-id-2\" class=\"sk-top-container\"><div class=\"sk-text-repr-fallback\"><pre>RandomForestClassifier(criterion=&#x27;entropy&#x27;, max_depth=5, n_estimators=140,\n",
       "                       n_jobs=-1)</pre><b>In a Jupyter environment, please rerun this cell to show the HTML representation or trust the notebook. <br />On GitHub, the HTML representation is unable to render, please try loading this page with nbviewer.org.</b></div><div class=\"sk-container\" hidden><div class=\"sk-item\"><div class=\"sk-estimator sk-toggleable\"><input class=\"sk-toggleable__control sk-hidden--visually\" id=\"sk-estimator-id-4\" type=\"checkbox\" checked><label for=\"sk-estimator-id-4\" class=\"sk-toggleable__label sk-toggleable__label-arrow\">RandomForestClassifier</label><div class=\"sk-toggleable__content\"><pre>RandomForestClassifier(criterion=&#x27;entropy&#x27;, max_depth=5, n_estimators=140,\n",
       "                       n_jobs=-1)</pre></div></div></div></div></div>"
      ],
      "text/plain": [
       "RandomForestClassifier(criterion='entropy', max_depth=5, n_estimators=140,\n",
       "                       n_jobs=-1)"
      ]
     },
     "execution_count": 70,
     "metadata": {},
     "output_type": "execute_result"
    }
   ],
   "source": [
    "grid.best_estimator_"
   ]
  },
  {
   "cell_type": "code",
   "execution_count": 71,
   "id": "f55f3549",
   "metadata": {},
   "outputs": [
    {
     "data": {
      "text/plain": [
       "0.8427999999999999"
      ]
     },
     "execution_count": 71,
     "metadata": {},
     "output_type": "execute_result"
    }
   ],
   "source": [
    "grid.best_score_"
   ]
  },
  {
   "cell_type": "code",
   "execution_count": null,
   "id": "14382971",
   "metadata": {},
   "outputs": [],
   "source": []
  },
  {
   "cell_type": "code",
   "execution_count": 74,
   "id": "f582aa5c",
   "metadata": {
    "scrolled": false
   },
   "outputs": [],
   "source": [
    "# plot_tree(model)"
   ]
  },
  {
   "cell_type": "code",
   "execution_count": null,
   "id": "7f9941f9",
   "metadata": {},
   "outputs": [],
   "source": []
  },
  {
   "cell_type": "code",
   "execution_count": null,
   "id": "56eb9fc1",
   "metadata": {},
   "outputs": [],
   "source": []
  },
  {
   "cell_type": "code",
   "execution_count": null,
   "id": "51637174",
   "metadata": {},
   "outputs": [],
   "source": []
  },
  {
   "cell_type": "code",
   "execution_count": 6,
   "id": "6efd6051",
   "metadata": {},
   "outputs": [
    {
     "name": "stdout",
     "output_type": "stream",
     "text": [
      "num of gpus available:  1\n"
     ]
    }
   ],
   "source": [
    "import tensorflow as tf\n",
    "from tensorflow import keras\n",
    "from keras import Sequential\n",
    "from keras.layers import Dense,Conv2D,MaxPooling2D,Flatten\n",
    "print(\"num of gpus available: \",len(tf.config.experimental.list_physical_devices('GPU')))\n",
    "from keras.utils import normalize,to_categorical\n",
    "from keras.preprocessing.image import ImageDataGenerator\n",
    "tf.config.run_functions_eagerly(True)\n",
    "#needed for tf to run"
   ]
  },
  {
   "cell_type": "code",
   "execution_count": 11,
   "id": "5f49b6a5",
   "metadata": {},
   "outputs": [],
   "source": [
    "labelsTrain = labelsTrain['smiling']\n",
    "labelsTest = labelsTest['smiling']\n",
    "\n",
    "imagesTrain = normalize(imagesTrain,axis=1)\n",
    "imagesTest = normalize(imagesTest,axis=1)\n",
    "\n",
    "labelsTrain = to_categorical(labelsTrain)\n",
    "labelsTest = to_categorical(labelsTest)"
   ]
  },
  {
   "cell_type": "code",
   "execution_count": 12,
   "id": "86eed50c",
   "metadata": {},
   "outputs": [],
   "source": [
    "datagen_train = ImageDataGenerator()\n",
    "#needed to save memory\n",
    "\n",
    "datagen_Test = ImageDataGenerator()"
   ]
  },
  {
   "cell_type": "code",
   "execution_count": 13,
   "id": "027fccbc",
   "metadata": {},
   "outputs": [],
   "source": [
    "model = Sequential()\n",
    "\n",
    "model.add(Conv2D(32,kernel_size=(3,3),padding='valid',activation='relu',input_shape=(150,150,3)))\n",
    "model.add(MaxPooling2D(pool_size=(2,2),strides=2,padding='valid'))\n",
    "\n",
    "model.add(Conv2D(64,kernel_size=(3,3),padding='valid',activation='relu'))\n",
    "model.add(MaxPooling2D(pool_size=(2,2),strides=2,padding='valid'))\n",
    "\n",
    "model.add(Conv2D(128,kernel_size=(3,3),padding='valid',activation='relu'))\n",
    "model.add(MaxPooling2D(pool_size=(2,2),strides=2,padding='valid'))\n",
    "\n",
    "model.add(Flatten())\n",
    "\n",
    "model.add( Dense(128,activation='relu') )\n",
    "model.add( Dense(64,activation='relu') )\n",
    "model.add( Dense(2,activation='softmax') )"
   ]
  },
  {
   "cell_type": "code",
   "execution_count": 14,
   "id": "ed7f9a3f",
   "metadata": {},
   "outputs": [],
   "source": [
    "model.compile(optimizer='rmsprop',loss='binary_crossentropy',metrics=['accuracy'])"
   ]
  },
  {
   "cell_type": "code",
   "execution_count": 15,
   "id": "f05f414c",
   "metadata": {},
   "outputs": [
    {
     "name": "stderr",
     "output_type": "stream",
     "text": [
      "C:\\Users\\X99S5\\AppData\\Roaming\\Python\\Python310\\site-packages\\tensorflow\\python\\data\\ops\\structured_function.py:264: UserWarning: Even though the `tf.config.experimental_run_functions_eagerly` option is set, this option does not apply to tf.data functions. To force eager execution of tf.data functions, please use `tf.data.experimental.enable_debug_mode()`.\n",
      "  warnings.warn(\n"
     ]
    },
    {
     "name": "stdout",
     "output_type": "stream",
     "text": [
      "Epoch 1/15\n",
      "50/50 [==============================] - 13s 124ms/step - loss: 0.0162 - accuracy: 0.9840 - val_loss: 1.4156e-07 - val_accuracy: 1.0000\n",
      "Epoch 2/15\n",
      "50/50 [==============================] - 6s 121ms/step - loss: 4.6373e-08 - accuracy: 1.0000 - val_loss: 1.0448e-08 - val_accuracy: 1.0000\n",
      "Epoch 3/15\n",
      "50/50 [==============================] - 6s 121ms/step - loss: 5.3000e-09 - accuracy: 1.0000 - val_loss: 1.9132e-09 - val_accuracy: 1.0000\n",
      "Epoch 4/15\n",
      "50/50 [==============================] - 6s 121ms/step - loss: 1.0836e-09 - accuracy: 1.0000 - val_loss: 4.1716e-10 - val_accuracy: 1.0000\n",
      "Epoch 5/15\n",
      "50/50 [==============================] - 6s 121ms/step - loss: 2.5589e-10 - accuracy: 1.0000 - val_loss: 1.1229e-10 - val_accuracy: 1.0000\n",
      "Epoch 6/15\n",
      "50/50 [==============================] - 6s 121ms/step - loss: 8.2238e-11 - accuracy: 1.0000 - val_loss: 4.5644e-11 - val_accuracy: 1.0000\n",
      "Epoch 7/15\n",
      "50/50 [==============================] - 6s 121ms/step - loss: 3.9280e-11 - accuracy: 1.0000 - val_loss: 2.6002e-11 - val_accuracy: 1.0000\n",
      "Epoch 8/15\n",
      "50/50 [==============================] - 6s 122ms/step - loss: 2.4787e-11 - accuracy: 1.0000 - val_loss: 1.7950e-11 - val_accuracy: 1.0000\n",
      "Epoch 9/15\n",
      "50/50 [==============================] - 6s 121ms/step - loss: 1.8041e-11 - accuracy: 1.0000 - val_loss: 1.3656e-11 - val_accuracy: 1.0000\n",
      "Epoch 10/15\n",
      "50/50 [==============================] - 6s 121ms/step - loss: 1.4161e-11 - accuracy: 1.0000 - val_loss: 1.0996e-11 - val_accuracy: 1.0000\n",
      "Epoch 11/15\n",
      "50/50 [==============================] - 6s 123ms/step - loss: 1.1640e-11 - accuracy: 1.0000 - val_loss: 9.1893e-12 - val_accuracy: 1.0000\n",
      "Epoch 12/15\n",
      "50/50 [==============================] - 6s 122ms/step - loss: 9.8735e-12 - accuracy: 1.0000 - val_loss: 7.8844e-12 - val_accuracy: 1.0000\n",
      "Epoch 13/15\n",
      "50/50 [==============================] - 6s 121ms/step - loss: 8.5663e-12 - accuracy: 1.0000 - val_loss: 6.8983e-12 - val_accuracy: 1.0000\n",
      "Epoch 14/15\n",
      "50/50 [==============================] - 6s 122ms/step - loss: 7.5613e-12 - accuracy: 1.0000 - val_loss: 6.1276e-12 - val_accuracy: 1.0000\n",
      "Epoch 15/15\n",
      "50/50 [==============================] - 6s 123ms/step - loss: 6.7645e-12 - accuracy: 1.0000 - val_loss: 5.5091e-12 - val_accuracy: 1.0000\n"
     ]
    }
   ],
   "source": [
    "history = model.fit( \n",
    "    datagen_train.flow(imagesTrain, labelsTrain, batch_size=100),\n",
    "    epochs=15,\n",
    "    validation_data=datagen_Test.flow(imagesTest, labelsTest, batch_size=100),\n",
    ")"
   ]
  },
  {
   "cell_type": "code",
   "execution_count": null,
   "id": "d3f731f5",
   "metadata": {},
   "outputs": [],
   "source": []
  }
 ],
 "metadata": {
  "kernelspec": {
   "display_name": "Python 3 (ipykernel)",
   "language": "python",
   "name": "python3"
  },
  "language_info": {
   "codemirror_mode": {
    "name": "ipython",
    "version": 3
   },
   "file_extension": ".py",
   "mimetype": "text/x-python",
   "name": "python",
   "nbconvert_exporter": "python",
   "pygments_lexer": "ipython3",
   "version": "3.10.8"
  }
 },
 "nbformat": 4,
 "nbformat_minor": 5
}
